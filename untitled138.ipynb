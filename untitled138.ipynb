{
  "nbformat": 4,
  "nbformat_minor": 0,
  "metadata": {
    "colab": {
      "provenance": [],
      "machine_shape": "hm",
      "authorship_tag": "ABX9TyM/8jDV1TQZGnJPr4/Gg5s0",
      "include_colab_link": true
    },
    "kernelspec": {
      "name": "python3",
      "display_name": "Python 3"
    },
    "language_info": {
      "name": "python"
    },
    "accelerator": "GPU"
  },
  "cells": [
    {
      "cell_type": "markdown",
      "metadata": {
        "id": "view-in-github",
        "colab_type": "text"
      },
      "source": [
        "<a href=\"https://colab.research.google.com/github/rockey1006/AlexaCSharpHelloWorld/blob/master/untitled138.ipynb\" target=\"_parent\"><img src=\"https://colab.research.google.com/assets/colab-badge.svg\" alt=\"Open In Colab\"/></a>"
      ]
    },
    {
      "cell_type": "code",
      "execution_count": null,
      "metadata": {
        "colab": {
          "base_uri": "https://localhost:8080/"
        },
        "id": "ESVl-ASGAoGL",
        "outputId": "dc20355a-4efc-4dcb-c254-241c7553b6b1"
      },
      "outputs": [
        {
          "output_type": "stream",
          "name": "stdout",
          "text": [
            "Mounted at /content/drive\n"
          ]
        }
      ],
      "source": [
        "from google.colab import drive\n",
        "drive.mount('/content/drive')"
      ]
    },
    {
      "cell_type": "code",
      "source": [
        "!git clone https://github.com/rockey1006/PyPermut.git"
      ],
      "metadata": {
        "colab": {
          "base_uri": "https://localhost:8080/"
        },
        "id": "THpLRxc_A1PV",
        "outputId": "b8881921-2999-42b5-d4ce-618e70a94230"
      },
      "execution_count": null,
      "outputs": [
        {
          "output_type": "stream",
          "name": "stdout",
          "text": [
            "Cloning into 'PyPermut'...\n",
            "remote: Enumerating objects: 94, done.\u001b[K\n",
            "remote: Counting objects: 100% (94/94), done.\u001b[K\n",
            "remote: Compressing objects: 100% (59/59), done.\u001b[K\n",
            "remote: Total 94 (delta 45), reused 79 (delta 33), pack-reused 0\u001b[K\n",
            "Unpacking objects: 100% (94/94), done.\n"
          ]
        }
      ]
    },
    {
      "cell_type": "code",
      "source": [
        "!pip install PyPermut/"
      ],
      "metadata": {
        "colab": {
          "base_uri": "https://localhost:8080/"
        },
        "id": "3CD31OdqBrxM",
        "outputId": "6fa9d860-6cec-429a-a878-da677bc0389d"
      },
      "execution_count": null,
      "outputs": [
        {
          "output_type": "stream",
          "name": "stdout",
          "text": [
            "Looking in indexes: https://pypi.org/simple, https://us-python.pkg.dev/colab-wheels/public/simple/\n",
            "Processing ./PyPermut\n",
            "\u001b[33m  DEPRECATION: A future pip version will change local packages to be built in-place without first copying to a temporary directory. We recommend you use --use-feature=in-tree-build to test your packages with this new behavior before it becomes the default.\n",
            "   pip 21.3 will remove support for this functionality. You can find discussion regarding this at https://github.com/pypa/pip/issues/7555.\u001b[0m\n",
            "  Installing build dependencies ... \u001b[?25l\u001b[?25hdone\n",
            "  Getting requirements to build wheel ... \u001b[?25l\u001b[?25hdone\n",
            "    Preparing wheel metadata ... \u001b[?25l\u001b[?25hdone\n",
            "Requirement already satisfied: matplotlib<4.0.0,>=3.0.0 in /usr/local/lib/python3.7/dist-packages (from pypermut==0.1.0) (3.2.2)\n",
            "Requirement already satisfied: scipy<2.0.0,>=1.6.0 in /usr/local/lib/python3.7/dist-packages (from pypermut==0.1.0) (1.7.3)\n",
            "Requirement already satisfied: numpy<2.0.0,>=1.16.5 in /usr/local/lib/python3.7/dist-packages (from pypermut==0.1.0) (1.21.6)\n",
            "Requirement already satisfied: kiwisolver>=1.0.1 in /usr/local/lib/python3.7/dist-packages (from matplotlib<4.0.0,>=3.0.0->pypermut==0.1.0) (1.4.4)\n",
            "Requirement already satisfied: pyparsing!=2.0.4,!=2.1.2,!=2.1.6,>=2.0.1 in /usr/local/lib/python3.7/dist-packages (from matplotlib<4.0.0,>=3.0.0->pypermut==0.1.0) (3.0.9)\n",
            "Requirement already satisfied: cycler>=0.10 in /usr/local/lib/python3.7/dist-packages (from matplotlib<4.0.0,>=3.0.0->pypermut==0.1.0) (0.11.0)\n",
            "Requirement already satisfied: python-dateutil>=2.1 in /usr/local/lib/python3.7/dist-packages (from matplotlib<4.0.0,>=3.0.0->pypermut==0.1.0) (2.8.2)\n",
            "Requirement already satisfied: typing-extensions in /usr/local/lib/python3.7/dist-packages (from kiwisolver>=1.0.1->matplotlib<4.0.0,>=3.0.0->pypermut==0.1.0) (4.1.1)\n",
            "Requirement already satisfied: six>=1.5 in /usr/local/lib/python3.7/dist-packages (from python-dateutil>=2.1->matplotlib<4.0.0,>=3.0.0->pypermut==0.1.0) (1.15.0)\n",
            "Building wheels for collected packages: pypermut\n",
            "  Building wheel for pypermut (PEP 517) ... \u001b[?25l\u001b[?25hdone\n",
            "  Created wheel for pypermut: filename=pypermut-0.1.0-py3-none-any.whl size=17136 sha256=60cc6af0eab5c59bf9f2de64f0a9aad0685ca3a870bcd85c7fe59e9c58d67887\n",
            "  Stored in directory: /tmp/pip-ephem-wheel-cache-3b61tytf/wheels/83/f8/57/cc2a2a3f441280591e93fd2b3c26f01619e2cdd60c4b21f106\n",
            "Successfully built pypermut\n",
            "Installing collected packages: pypermut\n",
            "Successfully installed pypermut-0.1.0\n"
          ]
        }
      ]
    },
    {
      "cell_type": "code",
      "source": [
        "import numpy as np\n",
        "from scipy.stats import pearsonr, spearmanr\n",
        "from pypermut.stats import permutation_corr\n",
        "from pypermut.misc import print_results, print_pvals\n",
        "from matplotlib import pyplot as plt"
      ],
      "metadata": {
        "id": "OVA-gEMDA_2e"
      },
      "execution_count": null,
      "outputs": []
    },
    {
      "cell_type": "code",
      "source": [
        "###############################################################################\n",
        "# Multivariate data\n",
        "# -----------------\n",
        "\n",
        "# Anscombe's trio: only the first three data sets of the Anscombe's quartet,\n",
        "# because the last set does not share the same values x.\n",
        "x = np.array([10, 8, 13, 9, 11, 14, 6, 4, 12, 7, 5])\n",
        "Y = np.array([\n",
        "    [8.04, 6.95, 7.58, 8.81, 8.33, 9.96, 7.24, 4.26, 10.84,4.82, 5.68],\n",
        "    [9.14, 8.14, 8.74, 8.77, 9.26, 8.10, 6.13, 3.10, 9.13, 7.26, 4.74],\n",
        "    [7.46, 6.77, 12.74, 7.11, 7.81, 8.84, 6.08, 5.39, 8.15, 6.42, 5.73]\n",
        "]).T\n",
        "\n",
        "# Anscombe's anti-trio: to highlight the difference between classical and\n",
        "# permutated tests, the number of variables is artificially increased.\n",
        "Y = np.c_[Y, -Y]\n",
        "vlabels = ['y{}'.format(v + 1) for v in range(Y.shape[1])]\n",
        "\n",
        "# Plot Anscombe's trio and anti-trio\n",
        "fig, ax = plt.subplots()\n",
        "ax.set(title=\"Anscombe's trio and anti-trio\", xlabel='x', ylabel='Y')\n",
        "[plt.scatter(x, y, label='y{}'.format(i + 1)) for i, y in enumerate(Y.T)]\n",
        "ax.legend()\n",
        "plt.show()\n",
        "\n",
        "\n",
        "###############################################################################\n",
        "# Classical statistics\n",
        "# --------------------\n",
        "\n",
        "# Pearson test\n",
        "r_class = [pearsonr(y, x) for y in Y.T]\n",
        "print('Pearson tests:')\n",
        "print_results(r_class, vlabels, 'r')\n",
        "\n",
        "# Spearman test\n",
        "rho_class = [spearmanr(y, x) for y in Y.T]\n",
        "print('Spearman tests:')\n",
        "print_results(rho_class, vlabels, 'rho')\n",
        "\n",
        "# Correction for multiple tests, using Bonferroni's method: multiply p-values\n",
        "# by the number of tests.\n",
        "n_tests = Y.shape[1]\n",
        "\n",
        "p_corrected = np.array(r_class)[:, 1] * n_tests\n",
        "print('\\nPearson tests, after Bonferroni correction:')\n",
        "print_pvals(p_corrected, vlabels)\n",
        "\n",
        "p_corrected = np.array(rho_class)[:, 1] * n_tests\n",
        "print('Spearman tests, after Bonferroni correction:')\n",
        "print_pvals(p_corrected, vlabels)\n",
        "\n",
        "# Bonferroni correction is a crucial step to adjust p-values of each variable\n",
        "# for multiple tests, avoiding type-I errors (ie, spurious correlations).\n",
        "# However, it makes the hypothesis that tests are independent, that is not the\n",
        "# case here.\n",
        "\n",
        "\n",
        "###############################################################################\n",
        "# Permutation statistics\n",
        "# ----------------------\n",
        "\n",
        "n_perm = 10000\n",
        "np.random.seed(17)\n",
        "\n",
        "# Permutated Pearson test, corrected by Rmax\n",
        "r_perm, p_perm = permutation_corr(Y, x=x, n=n_perm, side='two')\n",
        "print('\\nPermutated Pearson tests, with {} permutations:'.format(n_perm))\n",
        "print_results(np.c_[r_perm, p_perm], vlabels, 'r')\n",
        "\n",
        "# Permutated Spearman test, corrected by Rmax\n",
        "rho_perm, p_perm = permutation_corr(Y, x=x, n=n_perm, corr='spearman',\n",
        "                                    side='two')\n",
        "print('Permutated Spearman tests, with {} permutations:'.format(n_perm))\n",
        "print_results(np.c_[rho_perm, p_perm], vlabels, 'rho')"
      ],
      "metadata": {
        "colab": {
          "base_uri": "https://localhost:8080/",
          "height": 1000
        },
        "id": "n6tt2KgYCLL7",
        "outputId": "095a1d9a-8984-4dfb-ecb0-cb78eabb1f59"
      },
      "execution_count": null,
      "outputs": [
        {
          "output_type": "display_data",
          "data": {
            "text/plain": [
              "<Figure size 432x288 with 1 Axes>"
            ],
            "image/png": "[encoded data removed]"
          },
          "metadata": {
            "needs_background": "light"
          }
        },
        {
          "output_type": "stream",
          "name": "stdout",
          "text": [
            "Pearson tests:\n",
            " y1 : r=0.816, p=2.170e-03 (**)\n",
            " y2 : r=0.816, p=2.179e-03 (**)\n",
            " y3 : r=0.816, p=2.176e-03 (**)\n",
            " y4 : r=-0.816, p=2.170e-03 (**)\n",
            " y5 : r=-0.816, p=2.179e-03 (**)\n",
            " y6 : r=-0.816, p=2.176e-03 (**)\n",
            "Spearman tests:\n",
            " y1 : rho=0.818, p=2.083e-03 (**)\n",
            " y2 : rho=0.691, p=1.857e-02 (*)\n",
            " y3 : rho=0.991, p=3.763e-09 (***)\n",
            " y4 : rho=-0.818, p=2.083e-03 (**)\n",
            " y5 : rho=-0.691, p=1.857e-02 (*)\n",
            " y6 : rho=-0.991, p=3.763e-09 (***)\n",
            "\n",
            "Pearson tests, after Bonferroni correction:\n",
            " y1 : p=1.302e-02 (*)\n",
            " y2 : p=1.307e-02 (*)\n",
            " y3 : p=1.306e-02 (*)\n",
            " y4 : p=1.302e-02 (*)\n",
            " y5 : p=1.307e-02 (*)\n",
            " y6 : p=1.306e-02 (*)\n",
            "Spearman tests, after Bonferroni correction:\n",
            " y1 : p=1.250e-02 (*)\n",
            " y2 : p=1.114e-01 ()\n",
            " y3 : p=2.258e-08 (***)\n",
            " y4 : p=1.250e-02 (*)\n",
            " y5 : p=1.114e-01 ()\n",
            " y6 : p=2.258e-08 (***)\n",
            "\n",
            "Permutated Pearson tests, with 10000 permutations:\n",
            " y1 : r=0.816, p=3.200e-03 (**)\n",
            " y2 : r=0.816, p=3.200e-03 (**)\n",
            " y3 : r=0.816, p=3.200e-03 (**)\n",
            " y4 : r=-0.816, p=3.200e-03 (**)\n",
            " y5 : r=-0.816, p=3.200e-03 (**)\n",
            " y6 : r=-0.816, p=3.200e-03 (**)\n",
            "Permutated Spearman tests, with 10000 permutations:\n",
            " y1 : rho=0.818, p=9.400e-03 (**)\n",
            " y2 : rho=0.691, p=5.180e-02 (+)\n",
            " y3 : rho=0.991, p=0.000e+00 (***)\n",
            " y4 : rho=-0.818, p=9.400e-03 (**)\n",
            " y5 : rho=-0.691, p=5.180e-02 (+)\n",
            " y6 : rho=-0.991, p=0.000e+00 (***)\n"
          ]
        }
      ]
    }
  ]
}